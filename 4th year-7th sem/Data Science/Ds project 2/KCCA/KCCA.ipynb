{
 "cells": [
  {
   "cell_type": "markdown",
   "metadata": {},
   "source": [
    "## KCCA (kernel canonical coorelation analysis)"
   ]
  },
  {
   "cell_type": "code",
   "execution_count": 1,
   "metadata": {},
   "outputs": [],
   "source": [
    "#Importing All required packages\n",
    "import numpy as np\n",
    "import pandas as pd\n",
    "from numpy import dot\n",
    "from sklearn.preprocessing import StandardScaler\n",
    "from scipy.spatial.distance import pdist, squareform\n",
    "from sklearn.preprocessing import KernelCenterer\n",
    "from sklearn.metrics.pairwise import pairwise_kernels\n",
    "\n",
    "class KCCA:\n",
    "    \n",
    "    def normalisation(self, X):\n",
    "        return StandardScaler().fit_transform(X)\n",
    "    \n",
    "    #manual kernel rbf computation\n",
    "    def gaussianRbfKernel(self, X):\n",
    "        pairwise_dists = pdist(X, 'seuclidean')\n",
    "        distance_matrix=squareform(pairwise_dists)\n",
    "        K = np.exp( -distance_matrix ** 2 /  2)\n",
    "        return K\n",
    "\n",
    "    #Computing hilbert transform\n",
    "    def hilbertTransform(self, X):\n",
    "        \n",
    "        k = pairwise_kernels(X,metric = 'rbf')\n",
    "        phi = KernelCenterer().fit_transform(k)\n",
    "        return phi\n",
    "    \n",
    "    def fit(self, inputX, inputY):\n",
    "    \n",
    "        #normalizing data mean=0 standard deviation=1\n",
    "        X = self.normalisation(inputX)\n",
    "        Y = self.normalisation(inputY)\n",
    "\n",
    "        #transforming data to higher dimension\n",
    "        phiX=self.hilbertTransform(X)\n",
    "        phiY=self.hilbertTransform(Y)\n",
    "        \n",
    "        #generating kernel metrices\n",
    "        kx=self.gaussianRbfKernel(X)\n",
    "        ky=self.gaussianRbfKernel(Y)\n",
    "        \n",
    "        #Generating Matrix paramters\n",
    "        r=1e-5 #regularization Parameter\n",
    "        kxy = dot(kx,ky)\n",
    "        kxx = dot(kx,kx) + r*kx\n",
    "        kyy = dot(ky,ky) + r*ky\n",
    "\n",
    "        #Matrix computation for computing projections a,b by langrange's equation using SVD\n",
    "        htemp = dot(kxx**-0.5, kxy)\n",
    "        h = dot(htemp, kyy**-0.5)\n",
    "        U,D,V = np.linalg.svd(h, full_matrices=True)\n",
    "\n",
    "        #resultant eigen vectors\n",
    "        a = dot(kxx**-0.5, U)\n",
    "        b = dot(kyy**-0.5, V.T)\n",
    "\n",
    "        #resultant projections\n",
    "        wx = dot(phiX, a)\n",
    "        wy = dot(phiY, b)\n",
    "        \n",
    "        return wx,wy\n",
    "    \n",
    "    #Computing transformed matrix\n",
    "    def fit_transform(self,inputX, inputY):\n",
    "        wx,wy=self.fit(inputX, inputY)\n",
    "        Xnew = dot(wx.T, inputX)\n",
    "        Ynew = dot(wy.T, inputY)\n",
    "        return Xnew,Ynew"
   ]
  },
  {
   "cell_type": "code",
   "execution_count": null,
   "metadata": {},
   "outputs": [],
   "source": []
  }
 ],
 "metadata": {
  "kernelspec": {
   "display_name": "Python 3",
   "language": "python",
   "name": "python3"
  },
  "language_info": {
   "codemirror_mode": {
    "name": "ipython",
    "version": 3
   },
   "file_extension": ".py",
   "mimetype": "text/x-python",
   "name": "python",
   "nbconvert_exporter": "python",
   "pygments_lexer": "ipython3",
   "version": "3.7.6"
  }
 },
 "nbformat": 4,
 "nbformat_minor": 4
}
