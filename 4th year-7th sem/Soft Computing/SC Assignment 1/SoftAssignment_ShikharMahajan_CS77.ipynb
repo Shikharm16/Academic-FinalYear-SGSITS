{
 "cells": [
  {
   "cell_type": "markdown",
   "metadata": {},
   "source": [
    "# QUESTION 3"
   ]
  },
  {
   "cell_type": "markdown",
   "metadata": {},
   "source": [
    "Write a program for implementing BPN for training a single hidden layer\n",
    "back-propagation network with bipolar sigmoidal units (x = 1) to achieve\n",
    "the following mapping:\n",
    "y = sin(π x1) + cos(0.2 π x2)\n",
    "Set up two sets of data, each consisting of 20 input-output pairs, one for\n",
    "training and other for testing. The input-output data are obtained by\n",
    "varying input variables (x1, x2) within [-1, + 1] randomly. Also the\n",
    "output data is normalized within [-1, +1]. Apply training to find proper\n",
    "weights in the network."
   ]
  },
  {
   "cell_type": "code",
   "execution_count": 1,
   "metadata": {},
   "outputs": [],
   "source": [
    "#importing pkgs\n",
    "import random\n",
    "import numpy as np"
   ]
  },
  {
   "cell_type": "code",
   "execution_count": 2,
   "metadata": {},
   "outputs": [],
   "source": [
    "import math\n",
    "def output(x1,x2):\n",
    "    output = math.sin(math.pi*x1)+math.cos(math.pi*0.2*x2)\n",
    "    return output\n",
    "\n",
    "#generating trainig dataset\n",
    "train = []\n",
    "for i in range(20):\n",
    "    x1 = random.uniform(-1,1)\n",
    "    x2 = random.uniform(-1,1)\n",
    "    y = output(x1,x2)\n",
    "    train.append([x1,x2,y])\n",
    "    \n",
    "#train data standardizAtion\n",
    "max1,min1 = -2,2\n",
    "for t in train:\n",
    "    max1 = max(max1,t[2])\n",
    "    min1 = min(min1,t[2])\n",
    "diff = max1-min1\n",
    "for i in range(20):\n",
    "    train[i][2] = 1 - (2*(max1 - train[i][2])/diff)"
   ]
  },
  {
   "cell_type": "code",
   "execution_count": 3,
   "metadata": {},
   "outputs": [],
   "source": [
    "#generating test data\n",
    "test = []\n",
    "for i in range(20):\n",
    "    x1 = random.uniform(-1,1)\n",
    "    x2 = random.uniform(-1,1)\n",
    "    y = output(x1,x2)\n",
    "    test.append([x1,x2,y])\n",
    "    \n",
    "#test data normalization\n",
    "maxx,minn = -2,2\n",
    "for t in test:\n",
    "    maxx = max(maxx,t[2])\n",
    "    minn = min(minn,t[2])\n",
    "diff = maxx-minn\n",
    "for i in range(20):\n",
    "    test[i][2] = 1 - (2*(maxx - test[i][2])/diff)"
   ]
  },
  {
   "cell_type": "code",
   "execution_count": 4,
   "metadata": {},
   "outputs": [],
   "source": [
    "def activation(x):\n",
    "    val = (1-math.exp(-x))/(1+math.exp(-x))\n",
    "    return val"
   ]
  },
  {
   "cell_type": "code",
   "execution_count": 5,
   "metadata": {},
   "outputs": [],
   "source": [
    "def derivative(x):\n",
    "    t = activation(x)\n",
    "    val = ((1 + t)*(1 - t))/2\n",
    "    return val"
   ]
  },
  {
   "cell_type": "code",
   "execution_count": 6,
   "metadata": {},
   "outputs": [],
   "source": [
    "wghts = [[random.uniform(0,1),random.uniform(0,1)],[random.uniform(0,1),random.uniform(0,1)]]\n",
    "hidden_weights = [random.uniform(0,1),random.uniform(0,1)]\n",
    "epochs=15\n",
    "b0=0.2\n",
    "b1=0.2\n",
    "b2=0.2\n",
    "alpha=0.0001\n",
    "\n",
    "from operator import add\n",
    "def BPN(train,wghts,hidden_weights):\n",
    "    \n",
    "    b = [b0,b1,b2]\n",
    "    T = [t[2] for t in train]\n",
    "    \n",
    "    for l in range(epochs):\n",
    "        zn,z = [0]*2,[0]*2\n",
    "        Y = []\n",
    "        for t in train:\n",
    "            \n",
    "            x1,x2,tk = t[0],t[1],t[2]\n",
    "            \n",
    "            #calculation at hidden layer\n",
    "            for i in range(2):\n",
    "                zn[i] = x1*wghts[0][i] + x2*wghts[1][i] + b[i]\n",
    "                \n",
    "            for j in range(2):\n",
    "                z[j] = activation(zn[j])\n",
    "                \n",
    "            # calculation at output layer\n",
    "            yin = z[0]*hidden_weights[0] + z[1]*hidden_weights[1] + b2\n",
    "            y = activation(yin)\n",
    "            Y.append(y)\n",
    "            \n",
    "            \n",
    "            delta0 = (tk - y)*derivative(yin)\n",
    "            h_corr =[0]*2\n",
    "            \n",
    "            for i in range(2):\n",
    "                h_corr[i] = alpha*delta0*z[i]\n",
    "            bias_correlation = [0]*3\n",
    "            bias_correlation[2] = alpha*delta0\n",
    "            \n",
    "            #error correction between hidden and input layer\n",
    "            del_in,delta = [0]*2,[0]*2\n",
    "            for i in range(2):\n",
    "                del_in[i] = delta0*(wghts[0][i] + wghts[1][i])\n",
    "                delta[i] = del_in[i]*derivative(zn[i])\n",
    "            weight_corr = [[0]*2,[0]*2]\n",
    "            \n",
    "            for i in range(2):\n",
    "                for j in range(2):\n",
    "                    weight_corr[i][j] = alpha*delta[j]*t[i]\n",
    "                bias_correlation[i] = alpha*delta[i]\n",
    "                \n",
    "            for i in range(2):\n",
    "                for j in range(2):\n",
    "                    wghts[i][j] += weight_corr[i][j]\n",
    "                    \n",
    "            b = list(map(add,b,bias_correlation))\n",
    "            hidden_weights = list(map(add,hidden_weights,h_corr))\n",
    "            \n",
    "        print(\"Epoch : \",l+1)\n",
    "\n",
    "        flag = False\n",
    "        for i in range(20):\n",
    "            if T[i] != Y[i]:\n",
    "                flag = True\n",
    "                break\n",
    "        if flag == False:\n",
    "            break"
   ]
  },
  {
   "cell_type": "code",
   "execution_count": 7,
   "metadata": {},
   "outputs": [
    {
     "name": "stdout",
     "output_type": "stream",
     "text": [
      "Epoch :  1\n",
      "Epoch :  2\n",
      "Epoch :  3\n",
      "Epoch :  4\n",
      "Epoch :  5\n",
      "Epoch :  6\n",
      "Epoch :  7\n",
      "Epoch :  8\n",
      "Epoch :  9\n",
      "Epoch :  10\n",
      "Epoch :  11\n",
      "Epoch :  12\n",
      "Epoch :  13\n",
      "Epoch :  14\n",
      "Epoch :  15\n"
     ]
    }
   ],
   "source": [
    "BPN(train,wghts,hidden_weights)"
   ]
  },
  {
   "cell_type": "code",
   "execution_count": 8,
   "metadata": {},
   "outputs": [
    {
     "name": "stdout",
     "output_type": "stream",
     "text": [
      "Epoch :  1\n",
      "Epoch :  2\n",
      "Epoch :  3\n",
      "Epoch :  4\n",
      "Epoch :  5\n",
      "Epoch :  6\n",
      "Epoch :  7\n",
      "Epoch :  8\n",
      "Epoch :  9\n",
      "Epoch :  10\n",
      "Epoch :  11\n",
      "Epoch :  12\n",
      "Epoch :  13\n",
      "Epoch :  14\n",
      "Epoch :  15\n"
     ]
    }
   ],
   "source": [
    "BPN(test,wghts,hidden_weights)"
   ]
  },
  {
   "cell_type": "code",
   "execution_count": null,
   "metadata": {},
   "outputs": [],
   "source": []
  },
  {
   "cell_type": "markdown",
   "metadata": {},
   "source": [
    "# Question 2"
   ]
  },
  {
   "cell_type": "markdown",
   "metadata": {},
   "source": [
    "Write a program to classify the numbers between 0-9 using Adaline\n",
    "networks."
   ]
  },
  {
   "cell_type": "code",
   "execution_count": 17,
   "metadata": {},
   "outputs": [],
   "source": [
    "#importing libraries\n",
    "from keras.datasets import mnist\n",
    "import numpy as np"
   ]
  },
  {
   "cell_type": "code",
   "execution_count": 10,
   "metadata": {},
   "outputs": [
    {
     "name": "stdout",
     "output_type": "stream",
     "text": [
      "Training data shape:  (60000, 28, 28)\n",
      "Test data shape (10000, 28, 28)\n"
     ]
    }
   ],
   "source": [
    "# Importing MNIST dataset\n",
    "(x_train, y_train), (x_test, y_test) = mnist.load_data()\n",
    "print(\"Training data shape: \", x_train.shape)\n",
    "print(\"Test data shape\", x_test.shape)"
   ]
  },
  {
   "cell_type": "code",
   "execution_count": 11,
   "metadata": {},
   "outputs": [],
   "source": [
    "#resizing data\n",
    "image_vector_size = 28*28\n",
    "x_train = x_train.reshape(x_train.shape[0], image_vector_size)\n",
    "x_test = x_test.reshape(x_test.shape[0], image_vector_size)"
   ]
  },
  {
   "cell_type": "code",
   "execution_count": 12,
   "metadata": {},
   "outputs": [
    {
     "name": "stdout",
     "output_type": "stream",
     "text": [
      "(60000, 784)\n",
      "(60000,)\n"
     ]
    }
   ],
   "source": [
    "#data shape\n",
    "print(x_train.shape)\n",
    "print(y_train.shape)"
   ]
  },
  {
   "cell_type": "code",
   "execution_count": 13,
   "metadata": {},
   "outputs": [
    {
     "name": "stdout",
     "output_type": "stream",
     "text": [
      "Epoch :  1\n",
      "Epoch :  2\n",
      "Epoch :  3\n",
      "Epoch :  4\n",
      "Epoch :  5\n",
      "AVerage square training error:  18.839162099696313\n"
     ]
    }
   ],
   "source": [
    "#adaline model\n",
    "\n",
    "epoch=5\n",
    "alpha=0.00000001\n",
    "weight=(np.zeros(784)).reshape(784,1)\n",
    "bias=(np.zeros(60000)).reshape(60000,1)\n",
    "avg=0\n",
    "\n",
    "for i in range(epoch):\n",
    "    print(\"Epoch : \",i+1)\n",
    "    for j in range(x_train.shape[0]):\n",
    "        #calculation\n",
    "        y_cal=np.dot(x_train[j].reshape(1,784),weight)+bias[j]\n",
    "        \n",
    "        dif=y_train[j] - y_cal\n",
    "        \n",
    "        #weight updates\n",
    "        weight=weight + alpha*dif*(x_train[j].reshape(784,1))        \n",
    "        bias[j]=bias[j] + alpha*dif\n",
    "        \n",
    "        avg+=dif*dif\n",
    "    \n",
    "print(\"AVerage square training error: \",avg[0][0]/x_train.shape[0])  "
   ]
  },
  {
   "cell_type": "code",
   "execution_count": 16,
   "metadata": {},
   "outputs": [
    {
     "name": "stdout",
     "output_type": "stream",
     "text": [
      "Average square testing error:  10.763610468911597\n"
     ]
    }
   ],
   "source": [
    "test_avg=0\n",
    "for k in range(x_test.shape[0]):\n",
    "    \n",
    "    y_pred=np.dot(x_test[k].reshape(1,784),weight)+bias[k]\n",
    "    dif=y_test[k] - y_cal\n",
    "\n",
    "    test_avg+=dif*dif\n",
    "    \n",
    "print(\"Average square testing error: \",test_avg[0][0]/x_test.shape[0])     "
   ]
  },
  {
   "cell_type": "code",
   "execution_count": null,
   "metadata": {},
   "outputs": [],
   "source": []
  },
  {
   "cell_type": "code",
   "execution_count": null,
   "metadata": {},
   "outputs": [],
   "source": []
  },
  {
   "cell_type": "code",
   "execution_count": null,
   "metadata": {},
   "outputs": [],
   "source": []
  }
 ],
 "metadata": {
  "kernelspec": {
   "display_name": "Python 3",
   "language": "python",
   "name": "python3"
  },
  "language_info": {
   "codemirror_mode": {
    "name": "ipython",
    "version": 3
   },
   "file_extension": ".py",
   "mimetype": "text/x-python",
   "name": "python",
   "nbconvert_exporter": "python",
   "pygments_lexer": "ipython3",
   "version": "3.7.6"
  }
 },
 "nbformat": 4,
 "nbformat_minor": 4
}
